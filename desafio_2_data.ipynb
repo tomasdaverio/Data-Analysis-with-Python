{
 "cells": [
  {
   "cell_type": "markdown",
   "id": "43f6cb60-7890-4577-af19-97e94c8cce3d",
   "metadata": {},
   "source": [
    "Prueba 1"
   ]
  },
  {
   "cell_type": "code",
   "execution_count": 1,
   "id": "551332ba-fa76-472e-85d9-67b78f3ab79c",
   "metadata": {},
   "outputs": [],
   "source": [
    "import numpy as np\n",
    "import pandas as pd"
   ]
  },
  {
   "cell_type": "code",
   "execution_count": 2,
   "id": "6643e7bd-0878-473a-8ab7-f36ef9e52204",
   "metadata": {},
   "outputs": [],
   "source": [
    "# Read data from file\n",
    "df = pd.read_csv(\"adult.data.csv\")"
   ]
  },
  {
   "cell_type": "code",
   "execution_count": 3,
   "id": "aec3cf0f-15e7-4402-a706-80fd6a8e8613",
   "metadata": {},
   "outputs": [],
   "source": [
    "# How many of each race are represented in this dataset? This should be a Pandas series with race names as the index labels.\n",
    "race_count = df[\"race\"].value_counts()"
   ]
  },
  {
   "cell_type": "code",
   "execution_count": 4,
   "id": "63b16618-6061-4491-a2f7-4f9ff2a211db",
   "metadata": {},
   "outputs": [],
   "source": [
    "# What is the average age of men?\n",
    "filtered_df = df[df['sex'] == \"Male\"]\n",
    "average_age_men = round(filtered_df['age'].mean(), 1)"
   ]
  },
  {
   "cell_type": "code",
   "execution_count": 5,
   "id": "ca4a11e5-f787-4a1a-923a-09bd9397aa11",
   "metadata": {},
   "outputs": [],
   "source": [
    "# What is the percentage of people who have a Bachelor's degree?\n",
    "bachelors = len(df[df['education'] == \"Bachelors\"])\n",
    "percentage_bachelors = round((bachelors / len(df))*100, 1)"
   ]
  },
  {
   "cell_type": "code",
   "execution_count": 6,
   "id": "63aab2b8-a598-4572-bf90-d2be4097187d",
   "metadata": {},
   "outputs": [],
   "source": [
    "# What percentage of people with advanced education (`Bachelors`, `Masters`, or `Doctorate`) make more than 50K?\n",
    "# What percentage of people without advanced education make more than 50K?\n",
    "# with and without `Bachelors`, `Masters`, or `Doctorate`\n",
    "higher_df = df[df['education'].isin([\"Bachelors\",\"Masters\",\"Doctorate\"])]\n",
    "lower_df = df[~df['education'].isin([\"Bachelors\",\"Masters\",\"Doctorate\"])]\n",
    "higher_education = round((len(higher_df)/len(df))*100, 1)\n",
    "lower_education = round((len(lower_df)/len(df))*100, 1)\n",
    "# percentage with salary >50K\n",
    "higher_education_50 = len(higher_df[higher_df[\"salary\"] == \">50K\"])\n",
    "lower_education_50 = len(lower_df[lower_df[\"salary\"] == \">50K\"])\n",
    "higher_education_rich = round((higher_education_50 / len(higher_df))*100, 1)\n",
    "lower_education_rich = round((lower_education_50 / len(lower_df))*100, 1)"
   ]
  },
  {
   "cell_type": "code",
   "execution_count": 7,
   "id": "4c58e331-d68b-4b56-a5c2-739deac768ca",
   "metadata": {},
   "outputs": [],
   "source": [
    "# What is the minimum number of hours a person works per week (hours-per-week feature)?\n",
    "min_work_hours = min(df[\"hours-per-week\"])"
   ]
  },
  {
   "cell_type": "code",
   "execution_count": 8,
   "id": "754eec96-4fc6-4b55-b35b-2d1be466d33d",
   "metadata": {},
   "outputs": [],
   "source": [
    "# What percentage of the people who work the minimum number of hours per week have a salary of >50K?\n",
    "min_workers = df[df[\"hours-per-week\"] == 1]\n",
    "num_min_workers = len(min_workers[min_workers[\"salary\"] == \">50K\"])\n",
    "rich_percentage = round((num_min_workers / len(min_workers))*100, 1)"
   ]
  },
  {
   "cell_type": "code",
   "execution_count": 9,
   "id": "721d0913-59a9-4b93-9083-5fd0a41639f0",
   "metadata": {},
   "outputs": [],
   "source": [
    "# What country has the highest percentage of people that earn >50K?\n",
    "rich_by_country = df[df[\"salary\"] == \">50K\"]['native-country'].value_counts()\n",
    "count_by_country = df['native-country'].value_counts()\n",
    "div = round((rich_by_country / count_by_country)*100, 1)\n",
    "highest_earning_country = div.idxmax()\n",
    "highest_earning_country_percentage = max(div)"
   ]
  },
  {
   "cell_type": "code",
   "execution_count": 10,
   "id": "94592767-0c5d-44b6-9490-79e7f269ed07",
   "metadata": {},
   "outputs": [],
   "source": [
    "# Identify the most popular occupation for those who earn >50K in India.\n",
    "highest_earning_india = df[(df[\"native-country\"] == \"India\") & (df[\"salary\"] == \">50K\")]\n",
    "top_IN_occupation = highest_earning_india['occupation'].mode()[0]"
   ]
  },
  {
   "cell_type": "code",
   "execution_count": 11,
   "id": "ded9b9e9-437c-407f-932a-e00e8c405f49",
   "metadata": {},
   "outputs": [
    {
     "name": "stdout",
     "output_type": "stream",
     "text": [
      "Number of each race:\n",
      " race\n",
      "White                 27816\n",
      "Black                  3124\n",
      "Asian-Pac-Islander     1039\n",
      "Amer-Indian-Eskimo      311\n",
      "Other                   271\n",
      "Name: count, dtype: int64\n",
      "Average age of men: 39.4\n",
      "Percentage with Bachelors degrees: 16.4%\n",
      "Percentage with higher education that earn >50K: 46.5%\n",
      "Percentage without higher education that earn >50K: 17.4%\n",
      "Min work time: 1 hours/week\n",
      "Percentage of rich among those who work fewest hours: 10.0%\n",
      "Country with highest percentage of rich: Iran\n",
      "Highest percentage of rich people in country: 41.9%\n",
      "Top occupations in India: Prof-specialty\n"
     ]
    }
   ],
   "source": [
    "print(\"Number of each race:\\n\", race_count) \n",
    "print(\"Average age of men:\", average_age_men)\n",
    "print(f\"Percentage with Bachelors degrees: {percentage_bachelors}%\")\n",
    "print(f\"Percentage with higher education that earn >50K: {higher_education_rich}%\")\n",
    "print(f\"Percentage without higher education that earn >50K: {lower_education_rich}%\")\n",
    "print(f\"Min work time: {min_work_hours} hours/week\")\n",
    "print(f\"Percentage of rich among those who work fewest hours: {rich_percentage}%\")\n",
    "print(\"Country with highest percentage of rich:\", highest_earning_country)\n",
    "print(f\"Highest percentage of rich people in country: {highest_earning_country_percentage}%\")\n",
    "print(\"Top occupations in India:\", top_IN_occupation)"
   ]
  }
 ],
 "metadata": {
  "kernelspec": {
   "display_name": "Python 3 (ipykernel)",
   "language": "python",
   "name": "python3"
  },
  "language_info": {
   "codemirror_mode": {
    "name": "ipython",
    "version": 3
   },
   "file_extension": ".py",
   "mimetype": "text/x-python",
   "name": "python",
   "nbconvert_exporter": "python",
   "pygments_lexer": "ipython3",
   "version": "3.10.9"
  }
 },
 "nbformat": 4,
 "nbformat_minor": 5
}
